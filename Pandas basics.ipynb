{
 "cells": [
  {
   "cell_type": "code",
   "execution_count": 186,
   "metadata": {},
   "outputs": [],
   "source": [
    "import numpy as np\n",
    "import pandas as pd"
   ]
  },
  {
   "cell_type": "code",
   "execution_count": 187,
   "metadata": {},
   "outputs": [
    {
     "name": "stdout",
     "output_type": "stream",
     "text": [
      "[0 1 2 3]\n"
     ]
    }
   ],
   "source": [
    "arr=np.arange(4)\n",
    "print(arr)"
   ]
  },
  {
   "cell_type": "code",
   "execution_count": 188,
   "metadata": {},
   "outputs": [],
   "source": [
    "dict={'a':1,'b':2,'c':3,'d':4}"
   ]
  },
  {
   "cell_type": "code",
   "execution_count": 189,
   "metadata": {},
   "outputs": [],
   "source": [
    "labels=['w','x','y','z']"
   ]
  },
  {
   "cell_type": "code",
   "execution_count": 190,
   "metadata": {},
   "outputs": [],
   "source": [
    "list1=[12,23,3,4]"
   ]
  },
  {
   "cell_type": "code",
   "execution_count": 191,
   "metadata": {},
   "outputs": [
    {
     "data": {
      "text/plain": [
       "0    0\n",
       "1    1\n",
       "2    2\n",
       "3    3\n",
       "dtype: int32"
      ]
     },
     "execution_count": 191,
     "metadata": {},
     "output_type": "execute_result"
    }
   ],
   "source": [
    "pd.Series(arr)"
   ]
  },
  {
   "cell_type": "code",
   "execution_count": 192,
   "metadata": {},
   "outputs": [
    {
     "data": {
      "text/plain": [
       "w    0\n",
       "x    1\n",
       "y    2\n",
       "z    3\n",
       "dtype: int32"
      ]
     },
     "execution_count": 192,
     "metadata": {},
     "output_type": "execute_result"
    }
   ],
   "source": [
    "pd.Series(arr,labels)   # or pd.Series(data=arr,index=label)"
   ]
  },
  {
   "cell_type": "code",
   "execution_count": 193,
   "metadata": {},
   "outputs": [],
   "source": [
    "labels2=['w','x','y','z','a']"
   ]
  },
  {
   "cell_type": "markdown",
   "metadata": {},
   "source": [
    "pd.Series(arr,labels2)# it will give error as length of label and the list or any other thing must be same"
   ]
  },
  {
   "cell_type": "code",
   "execution_count": 194,
   "metadata": {},
   "outputs": [
    {
     "data": {
      "text/plain": [
       "a    1\n",
       "b    2\n",
       "c    3\n",
       "d    4\n",
       "dtype: int64"
      ]
     },
     "execution_count": 194,
     "metadata": {},
     "output_type": "execute_result"
    }
   ],
   "source": [
    "pd.Series(dict)"
   ]
  },
  {
   "cell_type": "code",
   "execution_count": 195,
   "metadata": {},
   "outputs": [
    {
     "data": {
      "text/plain": [
       "0    12\n",
       "1    23\n",
       "2     3\n",
       "3     4\n",
       "dtype: int64"
      ]
     },
     "execution_count": 195,
     "metadata": {},
     "output_type": "execute_result"
    }
   ],
   "source": [
    "pd.Series(list1)"
   ]
  },
  {
   "cell_type": "code",
   "execution_count": 196,
   "metadata": {},
   "outputs": [],
   "source": [
    "tup=(1,2,3,4)\n"
   ]
  },
  {
   "cell_type": "code",
   "execution_count": 197,
   "metadata": {},
   "outputs": [
    {
     "data": {
      "text/plain": [
       "0    1\n",
       "1    2\n",
       "2    3\n",
       "3    4\n",
       "dtype: int64"
      ]
     },
     "execution_count": 197,
     "metadata": {},
     "output_type": "execute_result"
    }
   ],
   "source": [
    "pd.Series(tup)"
   ]
  },
  {
   "cell_type": "markdown",
   "metadata": {},
   "source": [
    "pandas slicing in series"
   ]
  },
  {
   "cell_type": "code",
   "execution_count": 198,
   "metadata": {},
   "outputs": [],
   "source": [
    "sports1=pd.Series([1,2,3,4],['cricket','football','vollyball','golf'])"
   ]
  },
  {
   "cell_type": "code",
   "execution_count": 199,
   "metadata": {},
   "outputs": [
    {
     "name": "stdout",
     "output_type": "stream",
     "text": [
      "cricket      1\n",
      "football     2\n",
      "vollyball    3\n",
      "golf         4\n",
      "dtype: int64\n"
     ]
    }
   ],
   "source": [
    "print(sports1)"
   ]
  },
  {
   "cell_type": "code",
   "execution_count": 200,
   "metadata": {},
   "outputs": [
    {
     "name": "stdout",
     "output_type": "stream",
     "text": [
      "1\n",
      "1\n"
     ]
    }
   ],
   "source": [
    "print(sports1['cricket'])\n",
    "print(sports1[0])\n",
    "#BOTH WILL GIVE SAME VALUE"
   ]
  },
  {
   "cell_type": "code",
   "execution_count": 201,
   "metadata": {},
   "outputs": [],
   "source": [
    "sports2=pd.Series([2,3,4,1],['cricket','chess','vollyball','pubg'])"
   ]
  },
  {
   "cell_type": "code",
   "execution_count": 202,
   "metadata": {},
   "outputs": [
    {
     "data": {
      "text/plain": [
       "cricket      2\n",
       "chess        3\n",
       "vollyball    4\n",
       "pubg         1\n",
       "dtype: int64"
      ]
     },
     "execution_count": 202,
     "metadata": {},
     "output_type": "execute_result"
    }
   ],
   "source": [
    "sports2"
   ]
  },
  {
   "cell_type": "code",
   "execution_count": 203,
   "metadata": {},
   "outputs": [
    {
     "data": {
      "text/plain": [
       "chess        NaN\n",
       "cricket      3.0\n",
       "football     NaN\n",
       "golf         NaN\n",
       "pubg         NaN\n",
       "vollyball    7.0\n",
       "dtype: float64"
      ]
     },
     "execution_count": 203,
     "metadata": {},
     "output_type": "execute_result"
    }
   ],
   "source": [
    "sports1+sports2"
   ]
  },
  {
   "cell_type": "code",
   "execution_count": 204,
   "metadata": {},
   "outputs": [
    {
     "data": {
      "text/plain": [
       "chess         NaN\n",
       "cricket       2.0\n",
       "football      NaN\n",
       "golf          NaN\n",
       "pubg          NaN\n",
       "vollyball    12.0\n",
       "dtype: float64"
      ]
     },
     "execution_count": 204,
     "metadata": {},
     "output_type": "execute_result"
    }
   ],
   "source": [
    "sports1*sports2\n",
    "# we are doing the operation on the basis of index value"
   ]
  },
  {
   "cell_type": "code",
   "execution_count": 205,
   "metadata": {},
   "outputs": [],
   "source": [
    "np.random.seed(0)# we use seed to always get the same values in rand fuction"
   ]
  },
  {
   "cell_type": "code",
   "execution_count": 206,
   "metadata": {},
   "outputs": [
    {
     "data": {
      "text/plain": [
       "array([0.5488135 , 0.71518937, 0.60276338, 0.54488318, 0.4236548 ])"
      ]
     },
     "execution_count": 206,
     "metadata": {},
     "output_type": "execute_result"
    }
   ],
   "source": [
    "np.random.rand(5)"
   ]
  },
  {
   "cell_type": "code",
   "execution_count": 207,
   "metadata": {},
   "outputs": [
    {
     "data": {
      "text/plain": [
       "array([0.5488135 , 0.71518937, 0.60276338, 0.54488318, 0.4236548 ])"
      ]
     },
     "execution_count": 207,
     "metadata": {},
     "output_type": "execute_result"
    }
   ],
   "source": [
    "np.random.seed(0)\n",
    "np.random.rand(5)"
   ]
  },
  {
   "cell_type": "code",
   "execution_count": 208,
   "metadata": {},
   "outputs": [],
   "source": [
    "dataframe=pd.DataFrame(np.random.randn(10,5),index='A B C D E F G H I J'.split(),columns='sub1 sub2 sub3 sub4 sub5'.split())"
   ]
  },
  {
   "cell_type": "code",
   "execution_count": 209,
   "metadata": {},
   "outputs": [
    {
     "name": "stdout",
     "output_type": "stream",
     "text": [
      "       sub1      sub2      sub3      sub4      sub5\n",
      "A -0.842724  1.969924  1.266119 -0.505877  2.545201\n",
      "B  1.080812  0.484312  0.579140 -0.181583  1.410205\n",
      "C -0.374472  0.275198 -0.960755  0.376927  0.033439\n",
      "D  0.680567 -1.563497 -0.566698 -0.242150  1.514391\n",
      "E -0.333057  0.047365  1.462740  1.535029  0.566440\n",
      "F  0.149265 -1.078278  1.395472  1.787484 -0.569517\n",
      "G  0.175387 -0.462506 -1.085801  0.639736 -0.385863\n",
      "H -0.775762  0.995711 -1.933205  0.248531 -0.031245\n",
      "I -0.139474 -0.190656  0.448638 -0.992430 -0.225940\n",
      "J -1.654571 -0.639723 -0.479420  0.311364 -0.776020\n"
     ]
    }
   ],
   "source": [
    "print(dataframe)"
   ]
  },
  {
   "cell_type": "markdown",
   "metadata": {},
   "source": [
    "Indexing in pandas"
   ]
  },
  {
   "cell_type": "code",
   "execution_count": 210,
   "metadata": {},
   "outputs": [
    {
     "data": {
      "text/plain": [
       "A   -0.842724\n",
       "B    1.080812\n",
       "C   -0.374472\n",
       "D    0.680567\n",
       "E   -0.333057\n",
       "F    0.149265\n",
       "G    0.175387\n",
       "H   -0.775762\n",
       "I   -0.139474\n",
       "J   -1.654571\n",
       "Name: sub1, dtype: float64"
      ]
     },
     "execution_count": 210,
     "metadata": {},
     "output_type": "execute_result"
    }
   ],
   "source": [
    "dataframe['sub1']"
   ]
  },
  {
   "cell_type": "code",
   "execution_count": 211,
   "metadata": {},
   "outputs": [
    {
     "data": {
      "text/html": [
       "<div>\n",
       "<style scoped>\n",
       "    .dataframe tbody tr th:only-of-type {\n",
       "        vertical-align: middle;\n",
       "    }\n",
       "\n",
       "    .dataframe tbody tr th {\n",
       "        vertical-align: top;\n",
       "    }\n",
       "\n",
       "    .dataframe thead th {\n",
       "        text-align: right;\n",
       "    }\n",
       "</style>\n",
       "<table border=\"1\" class=\"dataframe\">\n",
       "  <thead>\n",
       "    <tr style=\"text-align: right;\">\n",
       "      <th></th>\n",
       "      <th>sub1</th>\n",
       "      <th>sub2</th>\n",
       "    </tr>\n",
       "  </thead>\n",
       "  <tbody>\n",
       "    <tr>\n",
       "      <th>A</th>\n",
       "      <td>-0.842724</td>\n",
       "      <td>1.969924</td>\n",
       "    </tr>\n",
       "    <tr>\n",
       "      <th>B</th>\n",
       "      <td>1.080812</td>\n",
       "      <td>0.484312</td>\n",
       "    </tr>\n",
       "    <tr>\n",
       "      <th>C</th>\n",
       "      <td>-0.374472</td>\n",
       "      <td>0.275198</td>\n",
       "    </tr>\n",
       "    <tr>\n",
       "      <th>D</th>\n",
       "      <td>0.680567</td>\n",
       "      <td>-1.563497</td>\n",
       "    </tr>\n",
       "    <tr>\n",
       "      <th>E</th>\n",
       "      <td>-0.333057</td>\n",
       "      <td>0.047365</td>\n",
       "    </tr>\n",
       "    <tr>\n",
       "      <th>F</th>\n",
       "      <td>0.149265</td>\n",
       "      <td>-1.078278</td>\n",
       "    </tr>\n",
       "    <tr>\n",
       "      <th>G</th>\n",
       "      <td>0.175387</td>\n",
       "      <td>-0.462506</td>\n",
       "    </tr>\n",
       "    <tr>\n",
       "      <th>H</th>\n",
       "      <td>-0.775762</td>\n",
       "      <td>0.995711</td>\n",
       "    </tr>\n",
       "    <tr>\n",
       "      <th>I</th>\n",
       "      <td>-0.139474</td>\n",
       "      <td>-0.190656</td>\n",
       "    </tr>\n",
       "    <tr>\n",
       "      <th>J</th>\n",
       "      <td>-1.654571</td>\n",
       "      <td>-0.639723</td>\n",
       "    </tr>\n",
       "  </tbody>\n",
       "</table>\n",
       "</div>"
      ],
      "text/plain": [
       "       sub1      sub2\n",
       "A -0.842724  1.969924\n",
       "B  1.080812  0.484312\n",
       "C -0.374472  0.275198\n",
       "D  0.680567 -1.563497\n",
       "E -0.333057  0.047365\n",
       "F  0.149265 -1.078278\n",
       "G  0.175387 -0.462506\n",
       "H -0.775762  0.995711\n",
       "I -0.139474 -0.190656\n",
       "J -1.654571 -0.639723"
      ]
     },
     "execution_count": 211,
     "metadata": {},
     "output_type": "execute_result"
    }
   ],
   "source": [
    "dataframe[['sub1','sub2']]"
   ]
  },
  {
   "cell_type": "code",
   "execution_count": 212,
   "metadata": {},
   "outputs": [
    {
     "data": {
      "text/html": [
       "<div>\n",
       "<style scoped>\n",
       "    .dataframe tbody tr th:only-of-type {\n",
       "        vertical-align: middle;\n",
       "    }\n",
       "\n",
       "    .dataframe tbody tr th {\n",
       "        vertical-align: top;\n",
       "    }\n",
       "\n",
       "    .dataframe thead th {\n",
       "        text-align: right;\n",
       "    }\n",
       "</style>\n",
       "<table border=\"1\" class=\"dataframe\">\n",
       "  <thead>\n",
       "    <tr style=\"text-align: right;\">\n",
       "      <th></th>\n",
       "      <th>sub2</th>\n",
       "      <th>sub1</th>\n",
       "    </tr>\n",
       "  </thead>\n",
       "  <tbody>\n",
       "    <tr>\n",
       "      <th>A</th>\n",
       "      <td>1.969924</td>\n",
       "      <td>-0.842724</td>\n",
       "    </tr>\n",
       "    <tr>\n",
       "      <th>B</th>\n",
       "      <td>0.484312</td>\n",
       "      <td>1.080812</td>\n",
       "    </tr>\n",
       "    <tr>\n",
       "      <th>C</th>\n",
       "      <td>0.275198</td>\n",
       "      <td>-0.374472</td>\n",
       "    </tr>\n",
       "    <tr>\n",
       "      <th>D</th>\n",
       "      <td>-1.563497</td>\n",
       "      <td>0.680567</td>\n",
       "    </tr>\n",
       "    <tr>\n",
       "      <th>E</th>\n",
       "      <td>0.047365</td>\n",
       "      <td>-0.333057</td>\n",
       "    </tr>\n",
       "    <tr>\n",
       "      <th>F</th>\n",
       "      <td>-1.078278</td>\n",
       "      <td>0.149265</td>\n",
       "    </tr>\n",
       "    <tr>\n",
       "      <th>G</th>\n",
       "      <td>-0.462506</td>\n",
       "      <td>0.175387</td>\n",
       "    </tr>\n",
       "    <tr>\n",
       "      <th>H</th>\n",
       "      <td>0.995711</td>\n",
       "      <td>-0.775762</td>\n",
       "    </tr>\n",
       "    <tr>\n",
       "      <th>I</th>\n",
       "      <td>-0.190656</td>\n",
       "      <td>-0.139474</td>\n",
       "    </tr>\n",
       "    <tr>\n",
       "      <th>J</th>\n",
       "      <td>-0.639723</td>\n",
       "      <td>-1.654571</td>\n",
       "    </tr>\n",
       "  </tbody>\n",
       "</table>\n",
       "</div>"
      ],
      "text/plain": [
       "       sub2      sub1\n",
       "A  1.969924 -0.842724\n",
       "B  0.484312  1.080812\n",
       "C  0.275198 -0.374472\n",
       "D -1.563497  0.680567\n",
       "E  0.047365 -0.333057\n",
       "F -1.078278  0.149265\n",
       "G -0.462506  0.175387\n",
       "H  0.995711 -0.775762\n",
       "I -0.190656 -0.139474\n",
       "J -0.639723 -1.654571"
      ]
     },
     "execution_count": 212,
     "metadata": {},
     "output_type": "execute_result"
    }
   ],
   "source": [
    "dataframe[['sub2','sub1']]"
   ]
  },
  {
   "cell_type": "code",
   "execution_count": 213,
   "metadata": {},
   "outputs": [],
   "source": [
    "dataframe['sub6']=dataframe['sub2']+dataframe['sub3']#ading a new column"
   ]
  },
  {
   "cell_type": "code",
   "execution_count": 214,
   "metadata": {},
   "outputs": [
    {
     "name": "stdout",
     "output_type": "stream",
     "text": [
      "       sub1      sub2      sub3      sub4      sub5      sub6\n",
      "A -0.842724  1.969924  1.266119 -0.505877  2.545201  3.236043\n",
      "B  1.080812  0.484312  0.579140 -0.181583  1.410205  1.063453\n",
      "C -0.374472  0.275198 -0.960755  0.376927  0.033439 -0.685556\n",
      "D  0.680567 -1.563497 -0.566698 -0.242150  1.514391 -2.130194\n",
      "E -0.333057  0.047365  1.462740  1.535029  0.566440  1.510105\n",
      "F  0.149265 -1.078278  1.395472  1.787484 -0.569517  0.317194\n",
      "G  0.175387 -0.462506 -1.085801  0.639736 -0.385863 -1.548306\n",
      "H -0.775762  0.995711 -1.933205  0.248531 -0.031245 -0.937493\n",
      "I -0.139474 -0.190656  0.448638 -0.992430 -0.225940  0.257982\n",
      "J -1.654571 -0.639723 -0.479420  0.311364 -0.776020 -1.119142\n"
     ]
    }
   ],
   "source": [
    "print(dataframe)"
   ]
  },
  {
   "cell_type": "code",
   "execution_count": 215,
   "metadata": {},
   "outputs": [
    {
     "data": {
      "text/html": [
       "<div>\n",
       "<style scoped>\n",
       "    .dataframe tbody tr th:only-of-type {\n",
       "        vertical-align: middle;\n",
       "    }\n",
       "\n",
       "    .dataframe tbody tr th {\n",
       "        vertical-align: top;\n",
       "    }\n",
       "\n",
       "    .dataframe thead th {\n",
       "        text-align: right;\n",
       "    }\n",
       "</style>\n",
       "<table border=\"1\" class=\"dataframe\">\n",
       "  <thead>\n",
       "    <tr style=\"text-align: right;\">\n",
       "      <th></th>\n",
       "      <th>sub1</th>\n",
       "      <th>sub2</th>\n",
       "      <th>sub3</th>\n",
       "      <th>sub4</th>\n",
       "      <th>sub5</th>\n",
       "      <th>sub6</th>\n",
       "    </tr>\n",
       "  </thead>\n",
       "  <tbody>\n",
       "    <tr>\n",
       "      <th>B</th>\n",
       "      <td>1.080812</td>\n",
       "      <td>0.484312</td>\n",
       "      <td>0.579140</td>\n",
       "      <td>-0.181583</td>\n",
       "      <td>1.410205</td>\n",
       "      <td>1.063453</td>\n",
       "    </tr>\n",
       "    <tr>\n",
       "      <th>C</th>\n",
       "      <td>-0.374472</td>\n",
       "      <td>0.275198</td>\n",
       "      <td>-0.960755</td>\n",
       "      <td>0.376927</td>\n",
       "      <td>0.033439</td>\n",
       "      <td>-0.685556</td>\n",
       "    </tr>\n",
       "    <tr>\n",
       "      <th>D</th>\n",
       "      <td>0.680567</td>\n",
       "      <td>-1.563497</td>\n",
       "      <td>-0.566698</td>\n",
       "      <td>-0.242150</td>\n",
       "      <td>1.514391</td>\n",
       "      <td>-2.130194</td>\n",
       "    </tr>\n",
       "    <tr>\n",
       "      <th>E</th>\n",
       "      <td>-0.333057</td>\n",
       "      <td>0.047365</td>\n",
       "      <td>1.462740</td>\n",
       "      <td>1.535029</td>\n",
       "      <td>0.566440</td>\n",
       "      <td>1.510105</td>\n",
       "    </tr>\n",
       "    <tr>\n",
       "      <th>F</th>\n",
       "      <td>0.149265</td>\n",
       "      <td>-1.078278</td>\n",
       "      <td>1.395472</td>\n",
       "      <td>1.787484</td>\n",
       "      <td>-0.569517</td>\n",
       "      <td>0.317194</td>\n",
       "    </tr>\n",
       "    <tr>\n",
       "      <th>G</th>\n",
       "      <td>0.175387</td>\n",
       "      <td>-0.462506</td>\n",
       "      <td>-1.085801</td>\n",
       "      <td>0.639736</td>\n",
       "      <td>-0.385863</td>\n",
       "      <td>-1.548306</td>\n",
       "    </tr>\n",
       "    <tr>\n",
       "      <th>H</th>\n",
       "      <td>-0.775762</td>\n",
       "      <td>0.995711</td>\n",
       "      <td>-1.933205</td>\n",
       "      <td>0.248531</td>\n",
       "      <td>-0.031245</td>\n",
       "      <td>-0.937493</td>\n",
       "    </tr>\n",
       "    <tr>\n",
       "      <th>I</th>\n",
       "      <td>-0.139474</td>\n",
       "      <td>-0.190656</td>\n",
       "      <td>0.448638</td>\n",
       "      <td>-0.992430</td>\n",
       "      <td>-0.225940</td>\n",
       "      <td>0.257982</td>\n",
       "    </tr>\n",
       "    <tr>\n",
       "      <th>J</th>\n",
       "      <td>-1.654571</td>\n",
       "      <td>-0.639723</td>\n",
       "      <td>-0.479420</td>\n",
       "      <td>0.311364</td>\n",
       "      <td>-0.776020</td>\n",
       "      <td>-1.119142</td>\n",
       "    </tr>\n",
       "  </tbody>\n",
       "</table>\n",
       "</div>"
      ],
      "text/plain": [
       "       sub1      sub2      sub3      sub4      sub5      sub6\n",
       "B  1.080812  0.484312  0.579140 -0.181583  1.410205  1.063453\n",
       "C -0.374472  0.275198 -0.960755  0.376927  0.033439 -0.685556\n",
       "D  0.680567 -1.563497 -0.566698 -0.242150  1.514391 -2.130194\n",
       "E -0.333057  0.047365  1.462740  1.535029  0.566440  1.510105\n",
       "F  0.149265 -1.078278  1.395472  1.787484 -0.569517  0.317194\n",
       "G  0.175387 -0.462506 -1.085801  0.639736 -0.385863 -1.548306\n",
       "H -0.775762  0.995711 -1.933205  0.248531 -0.031245 -0.937493\n",
       "I -0.139474 -0.190656  0.448638 -0.992430 -0.225940  0.257982\n",
       "J -1.654571 -0.639723 -0.479420  0.311364 -0.776020 -1.119142"
      ]
     },
     "execution_count": 215,
     "metadata": {},
     "output_type": "execute_result"
    }
   ],
   "source": [
    "dataframe.drop('A')"
   ]
  },
  {
   "cell_type": "code",
   "execution_count": 216,
   "metadata": {},
   "outputs": [
    {
     "data": {
      "text/html": [
       "<div>\n",
       "<style scoped>\n",
       "    .dataframe tbody tr th:only-of-type {\n",
       "        vertical-align: middle;\n",
       "    }\n",
       "\n",
       "    .dataframe tbody tr th {\n",
       "        vertical-align: top;\n",
       "    }\n",
       "\n",
       "    .dataframe thead th {\n",
       "        text-align: right;\n",
       "    }\n",
       "</style>\n",
       "<table border=\"1\" class=\"dataframe\">\n",
       "  <thead>\n",
       "    <tr style=\"text-align: right;\">\n",
       "      <th></th>\n",
       "      <th>sub1</th>\n",
       "      <th>sub2</th>\n",
       "      <th>sub3</th>\n",
       "      <th>sub4</th>\n",
       "      <th>sub5</th>\n",
       "      <th>sub6</th>\n",
       "    </tr>\n",
       "  </thead>\n",
       "  <tbody>\n",
       "    <tr>\n",
       "      <th>A</th>\n",
       "      <td>-0.842724</td>\n",
       "      <td>1.969924</td>\n",
       "      <td>1.266119</td>\n",
       "      <td>-0.505877</td>\n",
       "      <td>2.545201</td>\n",
       "      <td>3.236043</td>\n",
       "    </tr>\n",
       "    <tr>\n",
       "      <th>B</th>\n",
       "      <td>1.080812</td>\n",
       "      <td>0.484312</td>\n",
       "      <td>0.579140</td>\n",
       "      <td>-0.181583</td>\n",
       "      <td>1.410205</td>\n",
       "      <td>1.063453</td>\n",
       "    </tr>\n",
       "    <tr>\n",
       "      <th>C</th>\n",
       "      <td>-0.374472</td>\n",
       "      <td>0.275198</td>\n",
       "      <td>-0.960755</td>\n",
       "      <td>0.376927</td>\n",
       "      <td>0.033439</td>\n",
       "      <td>-0.685556</td>\n",
       "    </tr>\n",
       "    <tr>\n",
       "      <th>D</th>\n",
       "      <td>0.680567</td>\n",
       "      <td>-1.563497</td>\n",
       "      <td>-0.566698</td>\n",
       "      <td>-0.242150</td>\n",
       "      <td>1.514391</td>\n",
       "      <td>-2.130194</td>\n",
       "    </tr>\n",
       "    <tr>\n",
       "      <th>E</th>\n",
       "      <td>-0.333057</td>\n",
       "      <td>0.047365</td>\n",
       "      <td>1.462740</td>\n",
       "      <td>1.535029</td>\n",
       "      <td>0.566440</td>\n",
       "      <td>1.510105</td>\n",
       "    </tr>\n",
       "    <tr>\n",
       "      <th>F</th>\n",
       "      <td>0.149265</td>\n",
       "      <td>-1.078278</td>\n",
       "      <td>1.395472</td>\n",
       "      <td>1.787484</td>\n",
       "      <td>-0.569517</td>\n",
       "      <td>0.317194</td>\n",
       "    </tr>\n",
       "    <tr>\n",
       "      <th>G</th>\n",
       "      <td>0.175387</td>\n",
       "      <td>-0.462506</td>\n",
       "      <td>-1.085801</td>\n",
       "      <td>0.639736</td>\n",
       "      <td>-0.385863</td>\n",
       "      <td>-1.548306</td>\n",
       "    </tr>\n",
       "    <tr>\n",
       "      <th>H</th>\n",
       "      <td>-0.775762</td>\n",
       "      <td>0.995711</td>\n",
       "      <td>-1.933205</td>\n",
       "      <td>0.248531</td>\n",
       "      <td>-0.031245</td>\n",
       "      <td>-0.937493</td>\n",
       "    </tr>\n",
       "    <tr>\n",
       "      <th>I</th>\n",
       "      <td>-0.139474</td>\n",
       "      <td>-0.190656</td>\n",
       "      <td>0.448638</td>\n",
       "      <td>-0.992430</td>\n",
       "      <td>-0.225940</td>\n",
       "      <td>0.257982</td>\n",
       "    </tr>\n",
       "    <tr>\n",
       "      <th>J</th>\n",
       "      <td>-1.654571</td>\n",
       "      <td>-0.639723</td>\n",
       "      <td>-0.479420</td>\n",
       "      <td>0.311364</td>\n",
       "      <td>-0.776020</td>\n",
       "      <td>-1.119142</td>\n",
       "    </tr>\n",
       "  </tbody>\n",
       "</table>\n",
       "</div>"
      ],
      "text/plain": [
       "       sub1      sub2      sub3      sub4      sub5      sub6\n",
       "A -0.842724  1.969924  1.266119 -0.505877  2.545201  3.236043\n",
       "B  1.080812  0.484312  0.579140 -0.181583  1.410205  1.063453\n",
       "C -0.374472  0.275198 -0.960755  0.376927  0.033439 -0.685556\n",
       "D  0.680567 -1.563497 -0.566698 -0.242150  1.514391 -2.130194\n",
       "E -0.333057  0.047365  1.462740  1.535029  0.566440  1.510105\n",
       "F  0.149265 -1.078278  1.395472  1.787484 -0.569517  0.317194\n",
       "G  0.175387 -0.462506 -1.085801  0.639736 -0.385863 -1.548306\n",
       "H -0.775762  0.995711 -1.933205  0.248531 -0.031245 -0.937493\n",
       "I -0.139474 -0.190656  0.448638 -0.992430 -0.225940  0.257982\n",
       "J -1.654571 -0.639723 -0.479420  0.311364 -0.776020 -1.119142"
      ]
     },
     "execution_count": 216,
     "metadata": {},
     "output_type": "execute_result"
    }
   ],
   "source": [
    "dataframe"
   ]
  },
  {
   "cell_type": "code",
   "execution_count": 217,
   "metadata": {},
   "outputs": [],
   "source": [
    "# if we want to permanent delete the raow ten-\n",
    "dataframe.drop('A',inplace=True)"
   ]
  },
  {
   "cell_type": "code",
   "execution_count": 218,
   "metadata": {},
   "outputs": [
    {
     "data": {
      "text/html": [
       "<div>\n",
       "<style scoped>\n",
       "    .dataframe tbody tr th:only-of-type {\n",
       "        vertical-align: middle;\n",
       "    }\n",
       "\n",
       "    .dataframe tbody tr th {\n",
       "        vertical-align: top;\n",
       "    }\n",
       "\n",
       "    .dataframe thead th {\n",
       "        text-align: right;\n",
       "    }\n",
       "</style>\n",
       "<table border=\"1\" class=\"dataframe\">\n",
       "  <thead>\n",
       "    <tr style=\"text-align: right;\">\n",
       "      <th></th>\n",
       "      <th>sub1</th>\n",
       "      <th>sub2</th>\n",
       "      <th>sub3</th>\n",
       "      <th>sub4</th>\n",
       "      <th>sub5</th>\n",
       "      <th>sub6</th>\n",
       "    </tr>\n",
       "  </thead>\n",
       "  <tbody>\n",
       "    <tr>\n",
       "      <th>B</th>\n",
       "      <td>1.080812</td>\n",
       "      <td>0.484312</td>\n",
       "      <td>0.579140</td>\n",
       "      <td>-0.181583</td>\n",
       "      <td>1.410205</td>\n",
       "      <td>1.063453</td>\n",
       "    </tr>\n",
       "    <tr>\n",
       "      <th>C</th>\n",
       "      <td>-0.374472</td>\n",
       "      <td>0.275198</td>\n",
       "      <td>-0.960755</td>\n",
       "      <td>0.376927</td>\n",
       "      <td>0.033439</td>\n",
       "      <td>-0.685556</td>\n",
       "    </tr>\n",
       "    <tr>\n",
       "      <th>D</th>\n",
       "      <td>0.680567</td>\n",
       "      <td>-1.563497</td>\n",
       "      <td>-0.566698</td>\n",
       "      <td>-0.242150</td>\n",
       "      <td>1.514391</td>\n",
       "      <td>-2.130194</td>\n",
       "    </tr>\n",
       "    <tr>\n",
       "      <th>E</th>\n",
       "      <td>-0.333057</td>\n",
       "      <td>0.047365</td>\n",
       "      <td>1.462740</td>\n",
       "      <td>1.535029</td>\n",
       "      <td>0.566440</td>\n",
       "      <td>1.510105</td>\n",
       "    </tr>\n",
       "    <tr>\n",
       "      <th>F</th>\n",
       "      <td>0.149265</td>\n",
       "      <td>-1.078278</td>\n",
       "      <td>1.395472</td>\n",
       "      <td>1.787484</td>\n",
       "      <td>-0.569517</td>\n",
       "      <td>0.317194</td>\n",
       "    </tr>\n",
       "    <tr>\n",
       "      <th>G</th>\n",
       "      <td>0.175387</td>\n",
       "      <td>-0.462506</td>\n",
       "      <td>-1.085801</td>\n",
       "      <td>0.639736</td>\n",
       "      <td>-0.385863</td>\n",
       "      <td>-1.548306</td>\n",
       "    </tr>\n",
       "    <tr>\n",
       "      <th>H</th>\n",
       "      <td>-0.775762</td>\n",
       "      <td>0.995711</td>\n",
       "      <td>-1.933205</td>\n",
       "      <td>0.248531</td>\n",
       "      <td>-0.031245</td>\n",
       "      <td>-0.937493</td>\n",
       "    </tr>\n",
       "    <tr>\n",
       "      <th>I</th>\n",
       "      <td>-0.139474</td>\n",
       "      <td>-0.190656</td>\n",
       "      <td>0.448638</td>\n",
       "      <td>-0.992430</td>\n",
       "      <td>-0.225940</td>\n",
       "      <td>0.257982</td>\n",
       "    </tr>\n",
       "    <tr>\n",
       "      <th>J</th>\n",
       "      <td>-1.654571</td>\n",
       "      <td>-0.639723</td>\n",
       "      <td>-0.479420</td>\n",
       "      <td>0.311364</td>\n",
       "      <td>-0.776020</td>\n",
       "      <td>-1.119142</td>\n",
       "    </tr>\n",
       "  </tbody>\n",
       "</table>\n",
       "</div>"
      ],
      "text/plain": [
       "       sub1      sub2      sub3      sub4      sub5      sub6\n",
       "B  1.080812  0.484312  0.579140 -0.181583  1.410205  1.063453\n",
       "C -0.374472  0.275198 -0.960755  0.376927  0.033439 -0.685556\n",
       "D  0.680567 -1.563497 -0.566698 -0.242150  1.514391 -2.130194\n",
       "E -0.333057  0.047365  1.462740  1.535029  0.566440  1.510105\n",
       "F  0.149265 -1.078278  1.395472  1.787484 -0.569517  0.317194\n",
       "G  0.175387 -0.462506 -1.085801  0.639736 -0.385863 -1.548306\n",
       "H -0.775762  0.995711 -1.933205  0.248531 -0.031245 -0.937493\n",
       "I -0.139474 -0.190656  0.448638 -0.992430 -0.225940  0.257982\n",
       "J -1.654571 -0.639723 -0.479420  0.311364 -0.776020 -1.119142"
      ]
     },
     "execution_count": 218,
     "metadata": {},
     "output_type": "execute_result"
    }
   ],
   "source": [
    "dataframe"
   ]
  },
  {
   "cell_type": "code",
   "execution_count": 219,
   "metadata": {},
   "outputs": [
    {
     "data": {
      "text/html": [
       "<div>\n",
       "<style scoped>\n",
       "    .dataframe tbody tr th:only-of-type {\n",
       "        vertical-align: middle;\n",
       "    }\n",
       "\n",
       "    .dataframe tbody tr th {\n",
       "        vertical-align: top;\n",
       "    }\n",
       "\n",
       "    .dataframe thead th {\n",
       "        text-align: right;\n",
       "    }\n",
       "</style>\n",
       "<table border=\"1\" class=\"dataframe\">\n",
       "  <thead>\n",
       "    <tr style=\"text-align: right;\">\n",
       "      <th></th>\n",
       "      <th>sub1</th>\n",
       "      <th>sub2</th>\n",
       "      <th>sub3</th>\n",
       "      <th>sub5</th>\n",
       "      <th>sub6</th>\n",
       "    </tr>\n",
       "  </thead>\n",
       "  <tbody>\n",
       "    <tr>\n",
       "      <th>B</th>\n",
       "      <td>1.080812</td>\n",
       "      <td>0.484312</td>\n",
       "      <td>0.579140</td>\n",
       "      <td>1.410205</td>\n",
       "      <td>1.063453</td>\n",
       "    </tr>\n",
       "    <tr>\n",
       "      <th>C</th>\n",
       "      <td>-0.374472</td>\n",
       "      <td>0.275198</td>\n",
       "      <td>-0.960755</td>\n",
       "      <td>0.033439</td>\n",
       "      <td>-0.685556</td>\n",
       "    </tr>\n",
       "    <tr>\n",
       "      <th>D</th>\n",
       "      <td>0.680567</td>\n",
       "      <td>-1.563497</td>\n",
       "      <td>-0.566698</td>\n",
       "      <td>1.514391</td>\n",
       "      <td>-2.130194</td>\n",
       "    </tr>\n",
       "    <tr>\n",
       "      <th>E</th>\n",
       "      <td>-0.333057</td>\n",
       "      <td>0.047365</td>\n",
       "      <td>1.462740</td>\n",
       "      <td>0.566440</td>\n",
       "      <td>1.510105</td>\n",
       "    </tr>\n",
       "    <tr>\n",
       "      <th>F</th>\n",
       "      <td>0.149265</td>\n",
       "      <td>-1.078278</td>\n",
       "      <td>1.395472</td>\n",
       "      <td>-0.569517</td>\n",
       "      <td>0.317194</td>\n",
       "    </tr>\n",
       "    <tr>\n",
       "      <th>G</th>\n",
       "      <td>0.175387</td>\n",
       "      <td>-0.462506</td>\n",
       "      <td>-1.085801</td>\n",
       "      <td>-0.385863</td>\n",
       "      <td>-1.548306</td>\n",
       "    </tr>\n",
       "    <tr>\n",
       "      <th>H</th>\n",
       "      <td>-0.775762</td>\n",
       "      <td>0.995711</td>\n",
       "      <td>-1.933205</td>\n",
       "      <td>-0.031245</td>\n",
       "      <td>-0.937493</td>\n",
       "    </tr>\n",
       "    <tr>\n",
       "      <th>I</th>\n",
       "      <td>-0.139474</td>\n",
       "      <td>-0.190656</td>\n",
       "      <td>0.448638</td>\n",
       "      <td>-0.225940</td>\n",
       "      <td>0.257982</td>\n",
       "    </tr>\n",
       "    <tr>\n",
       "      <th>J</th>\n",
       "      <td>-1.654571</td>\n",
       "      <td>-0.639723</td>\n",
       "      <td>-0.479420</td>\n",
       "      <td>-0.776020</td>\n",
       "      <td>-1.119142</td>\n",
       "    </tr>\n",
       "  </tbody>\n",
       "</table>\n",
       "</div>"
      ],
      "text/plain": [
       "       sub1      sub2      sub3      sub5      sub6\n",
       "B  1.080812  0.484312  0.579140  1.410205  1.063453\n",
       "C -0.374472  0.275198 -0.960755  0.033439 -0.685556\n",
       "D  0.680567 -1.563497 -0.566698  1.514391 -2.130194\n",
       "E -0.333057  0.047365  1.462740  0.566440  1.510105\n",
       "F  0.149265 -1.078278  1.395472 -0.569517  0.317194\n",
       "G  0.175387 -0.462506 -1.085801 -0.385863 -1.548306\n",
       "H -0.775762  0.995711 -1.933205 -0.031245 -0.937493\n",
       "I -0.139474 -0.190656  0.448638 -0.225940  0.257982\n",
       "J -1.654571 -0.639723 -0.479420 -0.776020 -1.119142"
      ]
     },
     "execution_count": 219,
     "metadata": {},
     "output_type": "execute_result"
    }
   ],
   "source": [
    "dataframe.drop('sub4',axis=1)#we use axis=1 to delete column and axis=0 or nothing to delete a row"
   ]
  },
  {
   "cell_type": "code",
   "execution_count": 220,
   "metadata": {},
   "outputs": [
    {
     "data": {
      "text/html": [
       "<div>\n",
       "<style scoped>\n",
       "    .dataframe tbody tr th:only-of-type {\n",
       "        vertical-align: middle;\n",
       "    }\n",
       "\n",
       "    .dataframe tbody tr th {\n",
       "        vertical-align: top;\n",
       "    }\n",
       "\n",
       "    .dataframe thead th {\n",
       "        text-align: right;\n",
       "    }\n",
       "</style>\n",
       "<table border=\"1\" class=\"dataframe\">\n",
       "  <thead>\n",
       "    <tr style=\"text-align: right;\">\n",
       "      <th></th>\n",
       "      <th>sub1</th>\n",
       "      <th>sub2</th>\n",
       "      <th>sub3</th>\n",
       "      <th>sub4</th>\n",
       "      <th>sub5</th>\n",
       "      <th>sub6</th>\n",
       "    </tr>\n",
       "  </thead>\n",
       "  <tbody>\n",
       "    <tr>\n",
       "      <th>B</th>\n",
       "      <td>1.080812</td>\n",
       "      <td>0.484312</td>\n",
       "      <td>0.579140</td>\n",
       "      <td>-0.181583</td>\n",
       "      <td>1.410205</td>\n",
       "      <td>1.063453</td>\n",
       "    </tr>\n",
       "    <tr>\n",
       "      <th>C</th>\n",
       "      <td>-0.374472</td>\n",
       "      <td>0.275198</td>\n",
       "      <td>-0.960755</td>\n",
       "      <td>0.376927</td>\n",
       "      <td>0.033439</td>\n",
       "      <td>-0.685556</td>\n",
       "    </tr>\n",
       "    <tr>\n",
       "      <th>D</th>\n",
       "      <td>0.680567</td>\n",
       "      <td>-1.563497</td>\n",
       "      <td>-0.566698</td>\n",
       "      <td>-0.242150</td>\n",
       "      <td>1.514391</td>\n",
       "      <td>-2.130194</td>\n",
       "    </tr>\n",
       "    <tr>\n",
       "      <th>E</th>\n",
       "      <td>-0.333057</td>\n",
       "      <td>0.047365</td>\n",
       "      <td>1.462740</td>\n",
       "      <td>1.535029</td>\n",
       "      <td>0.566440</td>\n",
       "      <td>1.510105</td>\n",
       "    </tr>\n",
       "    <tr>\n",
       "      <th>F</th>\n",
       "      <td>0.149265</td>\n",
       "      <td>-1.078278</td>\n",
       "      <td>1.395472</td>\n",
       "      <td>1.787484</td>\n",
       "      <td>-0.569517</td>\n",
       "      <td>0.317194</td>\n",
       "    </tr>\n",
       "    <tr>\n",
       "      <th>G</th>\n",
       "      <td>0.175387</td>\n",
       "      <td>-0.462506</td>\n",
       "      <td>-1.085801</td>\n",
       "      <td>0.639736</td>\n",
       "      <td>-0.385863</td>\n",
       "      <td>-1.548306</td>\n",
       "    </tr>\n",
       "    <tr>\n",
       "      <th>H</th>\n",
       "      <td>-0.775762</td>\n",
       "      <td>0.995711</td>\n",
       "      <td>-1.933205</td>\n",
       "      <td>0.248531</td>\n",
       "      <td>-0.031245</td>\n",
       "      <td>-0.937493</td>\n",
       "    </tr>\n",
       "    <tr>\n",
       "      <th>I</th>\n",
       "      <td>-0.139474</td>\n",
       "      <td>-0.190656</td>\n",
       "      <td>0.448638</td>\n",
       "      <td>-0.992430</td>\n",
       "      <td>-0.225940</td>\n",
       "      <td>0.257982</td>\n",
       "    </tr>\n",
       "    <tr>\n",
       "      <th>J</th>\n",
       "      <td>-1.654571</td>\n",
       "      <td>-0.639723</td>\n",
       "      <td>-0.479420</td>\n",
       "      <td>0.311364</td>\n",
       "      <td>-0.776020</td>\n",
       "      <td>-1.119142</td>\n",
       "    </tr>\n",
       "  </tbody>\n",
       "</table>\n",
       "</div>"
      ],
      "text/plain": [
       "       sub1      sub2      sub3      sub4      sub5      sub6\n",
       "B  1.080812  0.484312  0.579140 -0.181583  1.410205  1.063453\n",
       "C -0.374472  0.275198 -0.960755  0.376927  0.033439 -0.685556\n",
       "D  0.680567 -1.563497 -0.566698 -0.242150  1.514391 -2.130194\n",
       "E -0.333057  0.047365  1.462740  1.535029  0.566440  1.510105\n",
       "F  0.149265 -1.078278  1.395472  1.787484 -0.569517  0.317194\n",
       "G  0.175387 -0.462506 -1.085801  0.639736 -0.385863 -1.548306\n",
       "H -0.775762  0.995711 -1.933205  0.248531 -0.031245 -0.937493\n",
       "I -0.139474 -0.190656  0.448638 -0.992430 -0.225940  0.257982\n",
       "J -1.654571 -0.639723 -0.479420  0.311364 -0.776020 -1.119142"
      ]
     },
     "execution_count": 220,
     "metadata": {},
     "output_type": "execute_result"
    }
   ],
   "source": [
    "dataframe#here we notice that we get the original dataframe even after deleting "
   ]
  },
  {
   "cell_type": "code",
   "execution_count": 221,
   "metadata": {},
   "outputs": [],
   "source": [
    "#to remove the column permanently we uses a inplace in our drop function\n",
    "dataframe.drop('sub5',axis=1,inplace=True)"
   ]
  },
  {
   "cell_type": "code",
   "execution_count": 222,
   "metadata": {},
   "outputs": [
    {
     "data": {
      "text/html": [
       "<div>\n",
       "<style scoped>\n",
       "    .dataframe tbody tr th:only-of-type {\n",
       "        vertical-align: middle;\n",
       "    }\n",
       "\n",
       "    .dataframe tbody tr th {\n",
       "        vertical-align: top;\n",
       "    }\n",
       "\n",
       "    .dataframe thead th {\n",
       "        text-align: right;\n",
       "    }\n",
       "</style>\n",
       "<table border=\"1\" class=\"dataframe\">\n",
       "  <thead>\n",
       "    <tr style=\"text-align: right;\">\n",
       "      <th></th>\n",
       "      <th>sub1</th>\n",
       "      <th>sub2</th>\n",
       "      <th>sub3</th>\n",
       "      <th>sub4</th>\n",
       "      <th>sub6</th>\n",
       "    </tr>\n",
       "  </thead>\n",
       "  <tbody>\n",
       "    <tr>\n",
       "      <th>B</th>\n",
       "      <td>1.080812</td>\n",
       "      <td>0.484312</td>\n",
       "      <td>0.579140</td>\n",
       "      <td>-0.181583</td>\n",
       "      <td>1.063453</td>\n",
       "    </tr>\n",
       "    <tr>\n",
       "      <th>C</th>\n",
       "      <td>-0.374472</td>\n",
       "      <td>0.275198</td>\n",
       "      <td>-0.960755</td>\n",
       "      <td>0.376927</td>\n",
       "      <td>-0.685556</td>\n",
       "    </tr>\n",
       "    <tr>\n",
       "      <th>D</th>\n",
       "      <td>0.680567</td>\n",
       "      <td>-1.563497</td>\n",
       "      <td>-0.566698</td>\n",
       "      <td>-0.242150</td>\n",
       "      <td>-2.130194</td>\n",
       "    </tr>\n",
       "    <tr>\n",
       "      <th>E</th>\n",
       "      <td>-0.333057</td>\n",
       "      <td>0.047365</td>\n",
       "      <td>1.462740</td>\n",
       "      <td>1.535029</td>\n",
       "      <td>1.510105</td>\n",
       "    </tr>\n",
       "    <tr>\n",
       "      <th>F</th>\n",
       "      <td>0.149265</td>\n",
       "      <td>-1.078278</td>\n",
       "      <td>1.395472</td>\n",
       "      <td>1.787484</td>\n",
       "      <td>0.317194</td>\n",
       "    </tr>\n",
       "    <tr>\n",
       "      <th>G</th>\n",
       "      <td>0.175387</td>\n",
       "      <td>-0.462506</td>\n",
       "      <td>-1.085801</td>\n",
       "      <td>0.639736</td>\n",
       "      <td>-1.548306</td>\n",
       "    </tr>\n",
       "    <tr>\n",
       "      <th>H</th>\n",
       "      <td>-0.775762</td>\n",
       "      <td>0.995711</td>\n",
       "      <td>-1.933205</td>\n",
       "      <td>0.248531</td>\n",
       "      <td>-0.937493</td>\n",
       "    </tr>\n",
       "    <tr>\n",
       "      <th>I</th>\n",
       "      <td>-0.139474</td>\n",
       "      <td>-0.190656</td>\n",
       "      <td>0.448638</td>\n",
       "      <td>-0.992430</td>\n",
       "      <td>0.257982</td>\n",
       "    </tr>\n",
       "    <tr>\n",
       "      <th>J</th>\n",
       "      <td>-1.654571</td>\n",
       "      <td>-0.639723</td>\n",
       "      <td>-0.479420</td>\n",
       "      <td>0.311364</td>\n",
       "      <td>-1.119142</td>\n",
       "    </tr>\n",
       "  </tbody>\n",
       "</table>\n",
       "</div>"
      ],
      "text/plain": [
       "       sub1      sub2      sub3      sub4      sub6\n",
       "B  1.080812  0.484312  0.579140 -0.181583  1.063453\n",
       "C -0.374472  0.275198 -0.960755  0.376927 -0.685556\n",
       "D  0.680567 -1.563497 -0.566698 -0.242150 -2.130194\n",
       "E -0.333057  0.047365  1.462740  1.535029  1.510105\n",
       "F  0.149265 -1.078278  1.395472  1.787484  0.317194\n",
       "G  0.175387 -0.462506 -1.085801  0.639736 -1.548306\n",
       "H -0.775762  0.995711 -1.933205  0.248531 -0.937493\n",
       "I -0.139474 -0.190656  0.448638 -0.992430  0.257982\n",
       "J -1.654571 -0.639723 -0.479420  0.311364 -1.119142"
      ]
     },
     "execution_count": 222,
     "metadata": {},
     "output_type": "execute_result"
    }
   ],
   "source": [
    "dataframe"
   ]
  },
  {
   "cell_type": "code",
   "execution_count": 223,
   "metadata": {},
   "outputs": [
    {
     "data": {
      "text/html": [
       "<div>\n",
       "<style scoped>\n",
       "    .dataframe tbody tr th:only-of-type {\n",
       "        vertical-align: middle;\n",
       "    }\n",
       "\n",
       "    .dataframe tbody tr th {\n",
       "        vertical-align: top;\n",
       "    }\n",
       "\n",
       "    .dataframe thead th {\n",
       "        text-align: right;\n",
       "    }\n",
       "</style>\n",
       "<table border=\"1\" class=\"dataframe\">\n",
       "  <thead>\n",
       "    <tr style=\"text-align: right;\">\n",
       "      <th></th>\n",
       "      <th>sub1</th>\n",
       "      <th>sub2</th>\n",
       "      <th>sub3</th>\n",
       "      <th>sub4</th>\n",
       "      <th>sub6</th>\n",
       "    </tr>\n",
       "  </thead>\n",
       "  <tbody>\n",
       "    <tr>\n",
       "      <th>B</th>\n",
       "      <td>1.080812</td>\n",
       "      <td>0.484312</td>\n",
       "      <td>0.579140</td>\n",
       "      <td>-0.181583</td>\n",
       "      <td>1.063453</td>\n",
       "    </tr>\n",
       "    <tr>\n",
       "      <th>D</th>\n",
       "      <td>0.680567</td>\n",
       "      <td>-1.563497</td>\n",
       "      <td>-0.566698</td>\n",
       "      <td>-0.242150</td>\n",
       "      <td>-2.130194</td>\n",
       "    </tr>\n",
       "    <tr>\n",
       "      <th>E</th>\n",
       "      <td>-0.333057</td>\n",
       "      <td>0.047365</td>\n",
       "      <td>1.462740</td>\n",
       "      <td>1.535029</td>\n",
       "      <td>1.510105</td>\n",
       "    </tr>\n",
       "    <tr>\n",
       "      <th>F</th>\n",
       "      <td>0.149265</td>\n",
       "      <td>-1.078278</td>\n",
       "      <td>1.395472</td>\n",
       "      <td>1.787484</td>\n",
       "      <td>0.317194</td>\n",
       "    </tr>\n",
       "    <tr>\n",
       "      <th>G</th>\n",
       "      <td>0.175387</td>\n",
       "      <td>-0.462506</td>\n",
       "      <td>-1.085801</td>\n",
       "      <td>0.639736</td>\n",
       "      <td>-1.548306</td>\n",
       "    </tr>\n",
       "    <tr>\n",
       "      <th>H</th>\n",
       "      <td>-0.775762</td>\n",
       "      <td>0.995711</td>\n",
       "      <td>-1.933205</td>\n",
       "      <td>0.248531</td>\n",
       "      <td>-0.937493</td>\n",
       "    </tr>\n",
       "    <tr>\n",
       "      <th>I</th>\n",
       "      <td>-0.139474</td>\n",
       "      <td>-0.190656</td>\n",
       "      <td>0.448638</td>\n",
       "      <td>-0.992430</td>\n",
       "      <td>0.257982</td>\n",
       "    </tr>\n",
       "    <tr>\n",
       "      <th>J</th>\n",
       "      <td>-1.654571</td>\n",
       "      <td>-0.639723</td>\n",
       "      <td>-0.479420</td>\n",
       "      <td>0.311364</td>\n",
       "      <td>-1.119142</td>\n",
       "    </tr>\n",
       "  </tbody>\n",
       "</table>\n",
       "</div>"
      ],
      "text/plain": [
       "       sub1      sub2      sub3      sub4      sub6\n",
       "B  1.080812  0.484312  0.579140 -0.181583  1.063453\n",
       "D  0.680567 -1.563497 -0.566698 -0.242150 -2.130194\n",
       "E -0.333057  0.047365  1.462740  1.535029  1.510105\n",
       "F  0.149265 -1.078278  1.395472  1.787484  0.317194\n",
       "G  0.175387 -0.462506 -1.085801  0.639736 -1.548306\n",
       "H -0.775762  0.995711 -1.933205  0.248531 -0.937493\n",
       "I -0.139474 -0.190656  0.448638 -0.992430  0.257982\n",
       "J -1.654571 -0.639723 -0.479420  0.311364 -1.119142"
      ]
     },
     "execution_count": 223,
     "metadata": {},
     "output_type": "execute_result"
    }
   ],
   "source": [
    "# to remove a row we just use\n",
    "dataframe.drop('C',axis=0)\n"
   ]
  },
  {
   "cell_type": "code",
   "execution_count": 224,
   "metadata": {},
   "outputs": [
    {
     "data": {
      "text/html": [
       "<div>\n",
       "<style scoped>\n",
       "    .dataframe tbody tr th:only-of-type {\n",
       "        vertical-align: middle;\n",
       "    }\n",
       "\n",
       "    .dataframe tbody tr th {\n",
       "        vertical-align: top;\n",
       "    }\n",
       "\n",
       "    .dataframe thead th {\n",
       "        text-align: right;\n",
       "    }\n",
       "</style>\n",
       "<table border=\"1\" class=\"dataframe\">\n",
       "  <thead>\n",
       "    <tr style=\"text-align: right;\">\n",
       "      <th></th>\n",
       "      <th>sub1</th>\n",
       "      <th>sub2</th>\n",
       "      <th>sub3</th>\n",
       "      <th>sub4</th>\n",
       "      <th>sub6</th>\n",
       "    </tr>\n",
       "  </thead>\n",
       "  <tbody>\n",
       "    <tr>\n",
       "      <th>B</th>\n",
       "      <td>1.080812</td>\n",
       "      <td>0.484312</td>\n",
       "      <td>0.579140</td>\n",
       "      <td>-0.181583</td>\n",
       "      <td>1.063453</td>\n",
       "    </tr>\n",
       "    <tr>\n",
       "      <th>C</th>\n",
       "      <td>-0.374472</td>\n",
       "      <td>0.275198</td>\n",
       "      <td>-0.960755</td>\n",
       "      <td>0.376927</td>\n",
       "      <td>-0.685556</td>\n",
       "    </tr>\n",
       "    <tr>\n",
       "      <th>D</th>\n",
       "      <td>0.680567</td>\n",
       "      <td>-1.563497</td>\n",
       "      <td>-0.566698</td>\n",
       "      <td>-0.242150</td>\n",
       "      <td>-2.130194</td>\n",
       "    </tr>\n",
       "    <tr>\n",
       "      <th>E</th>\n",
       "      <td>-0.333057</td>\n",
       "      <td>0.047365</td>\n",
       "      <td>1.462740</td>\n",
       "      <td>1.535029</td>\n",
       "      <td>1.510105</td>\n",
       "    </tr>\n",
       "    <tr>\n",
       "      <th>F</th>\n",
       "      <td>0.149265</td>\n",
       "      <td>-1.078278</td>\n",
       "      <td>1.395472</td>\n",
       "      <td>1.787484</td>\n",
       "      <td>0.317194</td>\n",
       "    </tr>\n",
       "    <tr>\n",
       "      <th>G</th>\n",
       "      <td>0.175387</td>\n",
       "      <td>-0.462506</td>\n",
       "      <td>-1.085801</td>\n",
       "      <td>0.639736</td>\n",
       "      <td>-1.548306</td>\n",
       "    </tr>\n",
       "    <tr>\n",
       "      <th>H</th>\n",
       "      <td>-0.775762</td>\n",
       "      <td>0.995711</td>\n",
       "      <td>-1.933205</td>\n",
       "      <td>0.248531</td>\n",
       "      <td>-0.937493</td>\n",
       "    </tr>\n",
       "    <tr>\n",
       "      <th>I</th>\n",
       "      <td>-0.139474</td>\n",
       "      <td>-0.190656</td>\n",
       "      <td>0.448638</td>\n",
       "      <td>-0.992430</td>\n",
       "      <td>0.257982</td>\n",
       "    </tr>\n",
       "    <tr>\n",
       "      <th>J</th>\n",
       "      <td>-1.654571</td>\n",
       "      <td>-0.639723</td>\n",
       "      <td>-0.479420</td>\n",
       "      <td>0.311364</td>\n",
       "      <td>-1.119142</td>\n",
       "    </tr>\n",
       "  </tbody>\n",
       "</table>\n",
       "</div>"
      ],
      "text/plain": [
       "       sub1      sub2      sub3      sub4      sub6\n",
       "B  1.080812  0.484312  0.579140 -0.181583  1.063453\n",
       "C -0.374472  0.275198 -0.960755  0.376927 -0.685556\n",
       "D  0.680567 -1.563497 -0.566698 -0.242150 -2.130194\n",
       "E -0.333057  0.047365  1.462740  1.535029  1.510105\n",
       "F  0.149265 -1.078278  1.395472  1.787484  0.317194\n",
       "G  0.175387 -0.462506 -1.085801  0.639736 -1.548306\n",
       "H -0.775762  0.995711 -1.933205  0.248531 -0.937493\n",
       "I -0.139474 -0.190656  0.448638 -0.992430  0.257982\n",
       "J -1.654571 -0.639723 -0.479420  0.311364 -1.119142"
      ]
     },
     "execution_count": 224,
     "metadata": {},
     "output_type": "execute_result"
    }
   ],
   "source": [
    "dataframe"
   ]
  },
  {
   "cell_type": "code",
   "execution_count": 225,
   "metadata": {},
   "outputs": [
    {
     "data": {
      "text/plain": [
       "sub1    1.080812\n",
       "sub2    0.484312\n",
       "sub3    0.579140\n",
       "sub4   -0.181583\n",
       "sub6    1.063453\n",
       "Name: B, dtype: float64"
      ]
     },
     "execution_count": 225,
     "metadata": {},
     "output_type": "execute_result"
    }
   ],
   "source": [
    "dataframe.loc['B']"
   ]
  },
  {
   "cell_type": "code",
   "execution_count": 226,
   "metadata": {},
   "outputs": [
    {
     "data": {
      "text/plain": [
       "sub1   -0.374472\n",
       "sub2    0.275198\n",
       "sub3   -0.960755\n",
       "sub4    0.376927\n",
       "sub6   -0.685556\n",
       "Name: C, dtype: float64"
      ]
     },
     "execution_count": 226,
     "metadata": {},
     "output_type": "execute_result"
    }
   ],
   "source": [
    "dataframe.iloc[1]#iloc for the normal indexing"
   ]
  },
  {
   "cell_type": "code",
   "execution_count": 227,
   "metadata": {},
   "outputs": [
    {
     "data": {
      "text/plain": [
       "1.0808119130554454"
      ]
     },
     "execution_count": 227,
     "metadata": {},
     "output_type": "execute_result"
    }
   ],
   "source": [
    "dataframe.loc['B','sub1']#to get a perticular value"
   ]
  },
  {
   "cell_type": "code",
   "execution_count": 228,
   "metadata": {},
   "outputs": [
    {
     "data": {
      "text/html": [
       "<div>\n",
       "<style scoped>\n",
       "    .dataframe tbody tr th:only-of-type {\n",
       "        vertical-align: middle;\n",
       "    }\n",
       "\n",
       "    .dataframe tbody tr th {\n",
       "        vertical-align: top;\n",
       "    }\n",
       "\n",
       "    .dataframe thead th {\n",
       "        text-align: right;\n",
       "    }\n",
       "</style>\n",
       "<table border=\"1\" class=\"dataframe\">\n",
       "  <thead>\n",
       "    <tr style=\"text-align: right;\">\n",
       "      <th></th>\n",
       "      <th>sub3</th>\n",
       "      <th>sub1</th>\n",
       "    </tr>\n",
       "  </thead>\n",
       "  <tbody>\n",
       "    <tr>\n",
       "      <th>C</th>\n",
       "      <td>-0.960755</td>\n",
       "      <td>-0.374472</td>\n",
       "    </tr>\n",
       "    <tr>\n",
       "      <th>E</th>\n",
       "      <td>1.462740</td>\n",
       "      <td>-0.333057</td>\n",
       "    </tr>\n",
       "  </tbody>\n",
       "</table>\n",
       "</div>"
      ],
      "text/plain": [
       "       sub3      sub1\n",
       "C -0.960755 -0.374472\n",
       "E  1.462740 -0.333057"
      ]
     },
     "execution_count": 228,
     "metadata": {},
     "output_type": "execute_result"
    }
   ],
   "source": [
    "dataframe.loc[['C','E'],['sub3','sub1']]#subsetting by selection methos"
   ]
  },
  {
   "cell_type": "code",
   "execution_count": 229,
   "metadata": {},
   "outputs": [
    {
     "data": {
      "text/html": [
       "<div>\n",
       "<style scoped>\n",
       "    .dataframe tbody tr th:only-of-type {\n",
       "        vertical-align: middle;\n",
       "    }\n",
       "\n",
       "    .dataframe tbody tr th {\n",
       "        vertical-align: top;\n",
       "    }\n",
       "\n",
       "    .dataframe thead th {\n",
       "        text-align: right;\n",
       "    }\n",
       "</style>\n",
       "<table border=\"1\" class=\"dataframe\">\n",
       "  <thead>\n",
       "    <tr style=\"text-align: right;\">\n",
       "      <th></th>\n",
       "      <th>sub1</th>\n",
       "      <th>sub2</th>\n",
       "      <th>sub3</th>\n",
       "      <th>sub4</th>\n",
       "      <th>sub6</th>\n",
       "    </tr>\n",
       "  </thead>\n",
       "  <tbody>\n",
       "    <tr>\n",
       "      <th>B</th>\n",
       "      <td>True</td>\n",
       "      <td>False</td>\n",
       "      <td>False</td>\n",
       "      <td>False</td>\n",
       "      <td>True</td>\n",
       "    </tr>\n",
       "    <tr>\n",
       "      <th>C</th>\n",
       "      <td>False</td>\n",
       "      <td>False</td>\n",
       "      <td>False</td>\n",
       "      <td>False</td>\n",
       "      <td>False</td>\n",
       "    </tr>\n",
       "    <tr>\n",
       "      <th>D</th>\n",
       "      <td>False</td>\n",
       "      <td>False</td>\n",
       "      <td>False</td>\n",
       "      <td>False</td>\n",
       "      <td>False</td>\n",
       "    </tr>\n",
       "    <tr>\n",
       "      <th>E</th>\n",
       "      <td>False</td>\n",
       "      <td>False</td>\n",
       "      <td>True</td>\n",
       "      <td>True</td>\n",
       "      <td>True</td>\n",
       "    </tr>\n",
       "    <tr>\n",
       "      <th>F</th>\n",
       "      <td>False</td>\n",
       "      <td>False</td>\n",
       "      <td>True</td>\n",
       "      <td>True</td>\n",
       "      <td>False</td>\n",
       "    </tr>\n",
       "    <tr>\n",
       "      <th>G</th>\n",
       "      <td>False</td>\n",
       "      <td>False</td>\n",
       "      <td>False</td>\n",
       "      <td>False</td>\n",
       "      <td>False</td>\n",
       "    </tr>\n",
       "    <tr>\n",
       "      <th>H</th>\n",
       "      <td>False</td>\n",
       "      <td>True</td>\n",
       "      <td>False</td>\n",
       "      <td>False</td>\n",
       "      <td>False</td>\n",
       "    </tr>\n",
       "    <tr>\n",
       "      <th>I</th>\n",
       "      <td>False</td>\n",
       "      <td>False</td>\n",
       "      <td>False</td>\n",
       "      <td>False</td>\n",
       "      <td>False</td>\n",
       "    </tr>\n",
       "    <tr>\n",
       "      <th>J</th>\n",
       "      <td>False</td>\n",
       "      <td>False</td>\n",
       "      <td>False</td>\n",
       "      <td>False</td>\n",
       "      <td>False</td>\n",
       "    </tr>\n",
       "  </tbody>\n",
       "</table>\n",
       "</div>"
      ],
      "text/plain": [
       "    sub1   sub2   sub3   sub4   sub6\n",
       "B   True  False  False  False   True\n",
       "C  False  False  False  False  False\n",
       "D  False  False  False  False  False\n",
       "E  False  False   True   True   True\n",
       "F  False  False   True   True  False\n",
       "G  False  False  False  False  False\n",
       "H  False   True  False  False  False\n",
       "I  False  False  False  False  False\n",
       "J  False  False  False  False  False"
      ]
     },
     "execution_count": 229,
     "metadata": {},
     "output_type": "execute_result"
    }
   ],
   "source": [
    "dataframe>0.7#gives us the boolean value of data is either biger or lesser than the given data"
   ]
  },
  {
   "cell_type": "code",
   "execution_count": 230,
   "metadata": {},
   "outputs": [
    {
     "data": {
      "text/html": [
       "<div>\n",
       "<style scoped>\n",
       "    .dataframe tbody tr th:only-of-type {\n",
       "        vertical-align: middle;\n",
       "    }\n",
       "\n",
       "    .dataframe tbody tr th {\n",
       "        vertical-align: top;\n",
       "    }\n",
       "\n",
       "    .dataframe thead th {\n",
       "        text-align: right;\n",
       "    }\n",
       "</style>\n",
       "<table border=\"1\" class=\"dataframe\">\n",
       "  <thead>\n",
       "    <tr style=\"text-align: right;\">\n",
       "      <th></th>\n",
       "      <th>sub1</th>\n",
       "      <th>sub2</th>\n",
       "      <th>sub3</th>\n",
       "      <th>sub4</th>\n",
       "      <th>sub6</th>\n",
       "    </tr>\n",
       "  </thead>\n",
       "  <tbody>\n",
       "    <tr>\n",
       "      <th>B</th>\n",
       "      <td>1.080812</td>\n",
       "      <td>NaN</td>\n",
       "      <td>0.579140</td>\n",
       "      <td>NaN</td>\n",
       "      <td>1.063453</td>\n",
       "    </tr>\n",
       "    <tr>\n",
       "      <th>C</th>\n",
       "      <td>NaN</td>\n",
       "      <td>NaN</td>\n",
       "      <td>NaN</td>\n",
       "      <td>NaN</td>\n",
       "      <td>NaN</td>\n",
       "    </tr>\n",
       "    <tr>\n",
       "      <th>D</th>\n",
       "      <td>0.680567</td>\n",
       "      <td>NaN</td>\n",
       "      <td>NaN</td>\n",
       "      <td>NaN</td>\n",
       "      <td>NaN</td>\n",
       "    </tr>\n",
       "    <tr>\n",
       "      <th>E</th>\n",
       "      <td>NaN</td>\n",
       "      <td>NaN</td>\n",
       "      <td>1.462740</td>\n",
       "      <td>1.535029</td>\n",
       "      <td>1.510105</td>\n",
       "    </tr>\n",
       "    <tr>\n",
       "      <th>F</th>\n",
       "      <td>NaN</td>\n",
       "      <td>NaN</td>\n",
       "      <td>1.395472</td>\n",
       "      <td>1.787484</td>\n",
       "      <td>NaN</td>\n",
       "    </tr>\n",
       "    <tr>\n",
       "      <th>G</th>\n",
       "      <td>NaN</td>\n",
       "      <td>NaN</td>\n",
       "      <td>NaN</td>\n",
       "      <td>0.639736</td>\n",
       "      <td>NaN</td>\n",
       "    </tr>\n",
       "    <tr>\n",
       "      <th>H</th>\n",
       "      <td>NaN</td>\n",
       "      <td>0.995711</td>\n",
       "      <td>NaN</td>\n",
       "      <td>NaN</td>\n",
       "      <td>NaN</td>\n",
       "    </tr>\n",
       "    <tr>\n",
       "      <th>I</th>\n",
       "      <td>NaN</td>\n",
       "      <td>NaN</td>\n",
       "      <td>NaN</td>\n",
       "      <td>NaN</td>\n",
       "      <td>NaN</td>\n",
       "    </tr>\n",
       "    <tr>\n",
       "      <th>J</th>\n",
       "      <td>NaN</td>\n",
       "      <td>NaN</td>\n",
       "      <td>NaN</td>\n",
       "      <td>NaN</td>\n",
       "      <td>NaN</td>\n",
       "    </tr>\n",
       "  </tbody>\n",
       "</table>\n",
       "</div>"
      ],
      "text/plain": [
       "       sub1      sub2      sub3      sub4      sub6\n",
       "B  1.080812       NaN  0.579140       NaN  1.063453\n",
       "C       NaN       NaN       NaN       NaN       NaN\n",
       "D  0.680567       NaN       NaN       NaN       NaN\n",
       "E       NaN       NaN  1.462740  1.535029  1.510105\n",
       "F       NaN       NaN  1.395472  1.787484       NaN\n",
       "G       NaN       NaN       NaN  0.639736       NaN\n",
       "H       NaN  0.995711       NaN       NaN       NaN\n",
       "I       NaN       NaN       NaN       NaN       NaN\n",
       "J       NaN       NaN       NaN       NaN       NaN"
      ]
     },
     "execution_count": 230,
     "metadata": {},
     "output_type": "execute_result"
    }
   ],
   "source": [
    "#to get the value instead of the boolean data we can do it as-\n",
    "dataframe[dataframe>0.5]"
   ]
  },
  {
   "cell_type": "code",
   "execution_count": 231,
   "metadata": {},
   "outputs": [
    {
     "data": {
      "text/html": [
       "<div>\n",
       "<style scoped>\n",
       "    .dataframe tbody tr th:only-of-type {\n",
       "        vertical-align: middle;\n",
       "    }\n",
       "\n",
       "    .dataframe tbody tr th {\n",
       "        vertical-align: top;\n",
       "    }\n",
       "\n",
       "    .dataframe thead th {\n",
       "        text-align: right;\n",
       "    }\n",
       "</style>\n",
       "<table border=\"1\" class=\"dataframe\">\n",
       "  <thead>\n",
       "    <tr style=\"text-align: right;\">\n",
       "      <th></th>\n",
       "      <th>sub1</th>\n",
       "      <th>sub2</th>\n",
       "      <th>sub3</th>\n",
       "      <th>sub4</th>\n",
       "      <th>sub6</th>\n",
       "    </tr>\n",
       "  </thead>\n",
       "  <tbody>\n",
       "    <tr>\n",
       "      <th>E</th>\n",
       "      <td>-0.333057</td>\n",
       "      <td>0.047365</td>\n",
       "      <td>1.462740</td>\n",
       "      <td>1.535029</td>\n",
       "      <td>1.510105</td>\n",
       "    </tr>\n",
       "    <tr>\n",
       "      <th>F</th>\n",
       "      <td>0.149265</td>\n",
       "      <td>-1.078278</td>\n",
       "      <td>1.395472</td>\n",
       "      <td>1.787484</td>\n",
       "      <td>0.317194</td>\n",
       "    </tr>\n",
       "  </tbody>\n",
       "</table>\n",
       "</div>"
      ],
      "text/plain": [
       "       sub1      sub2      sub3      sub4      sub6\n",
       "E -0.333057  0.047365  1.462740  1.535029  1.510105\n",
       "F  0.149265 -1.078278  1.395472  1.787484  0.317194"
      ]
     },
     "execution_count": 231,
     "metadata": {},
     "output_type": "execute_result"
    }
   ],
   "source": [
    "#to a perticular column in a dataframe\n",
    "dataframe[dataframe['sub3']>.8]#shows data of the column in which the value of given column is greater than the given data"
   ]
  },
  {
   "cell_type": "code",
   "execution_count": 232,
   "metadata": {},
   "outputs": [
    {
     "data": {
      "text/plain": [
       "E    0.047365\n",
       "F   -1.078278\n",
       "Name: sub2, dtype: float64"
      ]
     },
     "execution_count": 232,
     "metadata": {},
     "output_type": "execute_result"
    }
   ],
   "source": [
    "dataframe[dataframe['sub3']>.8]['sub2']#giving the value of sub2 only"
   ]
  },
  {
   "cell_type": "code",
   "execution_count": 233,
   "metadata": {},
   "outputs": [
    {
     "data": {
      "text/plain": [
       "sub1   -0.374472\n",
       "sub2    0.275198\n",
       "sub3   -0.960755\n",
       "sub4    0.376927\n",
       "sub6   -0.685556\n",
       "Name: C, dtype: float64"
      ]
     },
     "execution_count": 233,
     "metadata": {},
     "output_type": "execute_result"
    }
   ],
   "source": [
    "dataframe.loc['C']"
   ]
  },
  {
   "cell_type": "code",
   "execution_count": 245,
   "metadata": {},
   "outputs": [],
   "source": [
    "dataframe.reset_index(inplace=True)"
   ]
  },
  {
   "cell_type": "code",
   "execution_count": 247,
   "metadata": {
    "scrolled": false
   },
   "outputs": [
    {
     "data": {
      "text/plain": [
       "index           B\n",
       "sub1      1.08081\n",
       "sub2     0.484312\n",
       "sub3      0.57914\n",
       "sub4    -0.181583\n",
       "sub6      1.06345\n",
       "Name: 0, dtype: object"
      ]
     },
     "execution_count": 247,
     "metadata": {},
     "output_type": "execute_result"
    }
   ],
   "source": [
    "dataframe.iloc[0]"
   ]
  },
  {
   "cell_type": "code",
   "execution_count": 248,
   "metadata": {},
   "outputs": [
    {
     "data": {
      "text/html": [
       "<div>\n",
       "<style scoped>\n",
       "    .dataframe tbody tr th:only-of-type {\n",
       "        vertical-align: middle;\n",
       "    }\n",
       "\n",
       "    .dataframe tbody tr th {\n",
       "        vertical-align: top;\n",
       "    }\n",
       "\n",
       "    .dataframe thead th {\n",
       "        text-align: right;\n",
       "    }\n",
       "</style>\n",
       "<table border=\"1\" class=\"dataframe\">\n",
       "  <thead>\n",
       "    <tr style=\"text-align: right;\">\n",
       "      <th></th>\n",
       "      <th>index</th>\n",
       "      <th>sub1</th>\n",
       "      <th>sub2</th>\n",
       "      <th>sub3</th>\n",
       "      <th>sub4</th>\n",
       "      <th>sub6</th>\n",
       "    </tr>\n",
       "  </thead>\n",
       "  <tbody>\n",
       "    <tr>\n",
       "      <th>0</th>\n",
       "      <td>B</td>\n",
       "      <td>1.080812</td>\n",
       "      <td>0.484312</td>\n",
       "      <td>0.579140</td>\n",
       "      <td>-0.181583</td>\n",
       "      <td>1.063453</td>\n",
       "    </tr>\n",
       "    <tr>\n",
       "      <th>1</th>\n",
       "      <td>C</td>\n",
       "      <td>-0.374472</td>\n",
       "      <td>0.275198</td>\n",
       "      <td>-0.960755</td>\n",
       "      <td>0.376927</td>\n",
       "      <td>-0.685556</td>\n",
       "    </tr>\n",
       "    <tr>\n",
       "      <th>2</th>\n",
       "      <td>D</td>\n",
       "      <td>0.680567</td>\n",
       "      <td>-1.563497</td>\n",
       "      <td>-0.566698</td>\n",
       "      <td>-0.242150</td>\n",
       "      <td>-2.130194</td>\n",
       "    </tr>\n",
       "    <tr>\n",
       "      <th>3</th>\n",
       "      <td>E</td>\n",
       "      <td>-0.333057</td>\n",
       "      <td>0.047365</td>\n",
       "      <td>1.462740</td>\n",
       "      <td>1.535029</td>\n",
       "      <td>1.510105</td>\n",
       "    </tr>\n",
       "    <tr>\n",
       "      <th>4</th>\n",
       "      <td>F</td>\n",
       "      <td>0.149265</td>\n",
       "      <td>-1.078278</td>\n",
       "      <td>1.395472</td>\n",
       "      <td>1.787484</td>\n",
       "      <td>0.317194</td>\n",
       "    </tr>\n",
       "    <tr>\n",
       "      <th>5</th>\n",
       "      <td>G</td>\n",
       "      <td>0.175387</td>\n",
       "      <td>-0.462506</td>\n",
       "      <td>-1.085801</td>\n",
       "      <td>0.639736</td>\n",
       "      <td>-1.548306</td>\n",
       "    </tr>\n",
       "    <tr>\n",
       "      <th>6</th>\n",
       "      <td>H</td>\n",
       "      <td>-0.775762</td>\n",
       "      <td>0.995711</td>\n",
       "      <td>-1.933205</td>\n",
       "      <td>0.248531</td>\n",
       "      <td>-0.937493</td>\n",
       "    </tr>\n",
       "    <tr>\n",
       "      <th>7</th>\n",
       "      <td>I</td>\n",
       "      <td>-0.139474</td>\n",
       "      <td>-0.190656</td>\n",
       "      <td>0.448638</td>\n",
       "      <td>-0.992430</td>\n",
       "      <td>0.257982</td>\n",
       "    </tr>\n",
       "    <tr>\n",
       "      <th>8</th>\n",
       "      <td>J</td>\n",
       "      <td>-1.654571</td>\n",
       "      <td>-0.639723</td>\n",
       "      <td>-0.479420</td>\n",
       "      <td>0.311364</td>\n",
       "      <td>-1.119142</td>\n",
       "    </tr>\n",
       "  </tbody>\n",
       "</table>\n",
       "</div>"
      ],
      "text/plain": [
       "  index      sub1      sub2      sub3      sub4      sub6\n",
       "0     B  1.080812  0.484312  0.579140 -0.181583  1.063453\n",
       "1     C -0.374472  0.275198 -0.960755  0.376927 -0.685556\n",
       "2     D  0.680567 -1.563497 -0.566698 -0.242150 -2.130194\n",
       "3     E -0.333057  0.047365  1.462740  1.535029  1.510105\n",
       "4     F  0.149265 -1.078278  1.395472  1.787484  0.317194\n",
       "5     G  0.175387 -0.462506 -1.085801  0.639736 -1.548306\n",
       "6     H -0.775762  0.995711 -1.933205  0.248531 -0.937493\n",
       "7     I -0.139474 -0.190656  0.448638 -0.992430  0.257982\n",
       "8     J -1.654571 -0.639723 -0.479420  0.311364 -1.119142"
      ]
     },
     "execution_count": 248,
     "metadata": {},
     "output_type": "execute_result"
    }
   ],
   "source": [
    "dataframe"
   ]
  },
  {
   "cell_type": "code",
   "execution_count": 255,
   "metadata": {},
   "outputs": [],
   "source": [
    "new_index=\"in sr pak nep ch bh jpn ame rus\".split()"
   ]
  },
  {
   "cell_type": "code",
   "execution_count": 256,
   "metadata": {},
   "outputs": [],
   "source": [
    "dataframe['countries']=new_index"
   ]
  },
  {
   "cell_type": "code",
   "execution_count": 259,
   "metadata": {},
   "outputs": [],
   "source": [
    "dataframe.set_index('countries',inplace=True)"
   ]
  },
  {
   "cell_type": "code",
   "execution_count": 260,
   "metadata": {},
   "outputs": [
    {
     "data": {
      "text/html": [
       "<div>\n",
       "<style scoped>\n",
       "    .dataframe tbody tr th:only-of-type {\n",
       "        vertical-align: middle;\n",
       "    }\n",
       "\n",
       "    .dataframe tbody tr th {\n",
       "        vertical-align: top;\n",
       "    }\n",
       "\n",
       "    .dataframe thead th {\n",
       "        text-align: right;\n",
       "    }\n",
       "</style>\n",
       "<table border=\"1\" class=\"dataframe\">\n",
       "  <thead>\n",
       "    <tr style=\"text-align: right;\">\n",
       "      <th></th>\n",
       "      <th>index</th>\n",
       "      <th>sub1</th>\n",
       "      <th>sub2</th>\n",
       "      <th>sub3</th>\n",
       "      <th>sub4</th>\n",
       "      <th>sub6</th>\n",
       "    </tr>\n",
       "    <tr>\n",
       "      <th>countries</th>\n",
       "      <th></th>\n",
       "      <th></th>\n",
       "      <th></th>\n",
       "      <th></th>\n",
       "      <th></th>\n",
       "      <th></th>\n",
       "    </tr>\n",
       "  </thead>\n",
       "  <tbody>\n",
       "    <tr>\n",
       "      <th>in</th>\n",
       "      <td>B</td>\n",
       "      <td>1.080812</td>\n",
       "      <td>0.484312</td>\n",
       "      <td>0.579140</td>\n",
       "      <td>-0.181583</td>\n",
       "      <td>1.063453</td>\n",
       "    </tr>\n",
       "    <tr>\n",
       "      <th>sr</th>\n",
       "      <td>C</td>\n",
       "      <td>-0.374472</td>\n",
       "      <td>0.275198</td>\n",
       "      <td>-0.960755</td>\n",
       "      <td>0.376927</td>\n",
       "      <td>-0.685556</td>\n",
       "    </tr>\n",
       "    <tr>\n",
       "      <th>pak</th>\n",
       "      <td>D</td>\n",
       "      <td>0.680567</td>\n",
       "      <td>-1.563497</td>\n",
       "      <td>-0.566698</td>\n",
       "      <td>-0.242150</td>\n",
       "      <td>-2.130194</td>\n",
       "    </tr>\n",
       "    <tr>\n",
       "      <th>nep</th>\n",
       "      <td>E</td>\n",
       "      <td>-0.333057</td>\n",
       "      <td>0.047365</td>\n",
       "      <td>1.462740</td>\n",
       "      <td>1.535029</td>\n",
       "      <td>1.510105</td>\n",
       "    </tr>\n",
       "    <tr>\n",
       "      <th>ch</th>\n",
       "      <td>F</td>\n",
       "      <td>0.149265</td>\n",
       "      <td>-1.078278</td>\n",
       "      <td>1.395472</td>\n",
       "      <td>1.787484</td>\n",
       "      <td>0.317194</td>\n",
       "    </tr>\n",
       "    <tr>\n",
       "      <th>bh</th>\n",
       "      <td>G</td>\n",
       "      <td>0.175387</td>\n",
       "      <td>-0.462506</td>\n",
       "      <td>-1.085801</td>\n",
       "      <td>0.639736</td>\n",
       "      <td>-1.548306</td>\n",
       "    </tr>\n",
       "    <tr>\n",
       "      <th>jpn</th>\n",
       "      <td>H</td>\n",
       "      <td>-0.775762</td>\n",
       "      <td>0.995711</td>\n",
       "      <td>-1.933205</td>\n",
       "      <td>0.248531</td>\n",
       "      <td>-0.937493</td>\n",
       "    </tr>\n",
       "    <tr>\n",
       "      <th>ame</th>\n",
       "      <td>I</td>\n",
       "      <td>-0.139474</td>\n",
       "      <td>-0.190656</td>\n",
       "      <td>0.448638</td>\n",
       "      <td>-0.992430</td>\n",
       "      <td>0.257982</td>\n",
       "    </tr>\n",
       "    <tr>\n",
       "      <th>rus</th>\n",
       "      <td>J</td>\n",
       "      <td>-1.654571</td>\n",
       "      <td>-0.639723</td>\n",
       "      <td>-0.479420</td>\n",
       "      <td>0.311364</td>\n",
       "      <td>-1.119142</td>\n",
       "    </tr>\n",
       "  </tbody>\n",
       "</table>\n",
       "</div>"
      ],
      "text/plain": [
       "          index      sub1      sub2      sub3      sub4      sub6\n",
       "countries                                                        \n",
       "in            B  1.080812  0.484312  0.579140 -0.181583  1.063453\n",
       "sr            C -0.374472  0.275198 -0.960755  0.376927 -0.685556\n",
       "pak           D  0.680567 -1.563497 -0.566698 -0.242150 -2.130194\n",
       "nep           E -0.333057  0.047365  1.462740  1.535029  1.510105\n",
       "ch            F  0.149265 -1.078278  1.395472  1.787484  0.317194\n",
       "bh            G  0.175387 -0.462506 -1.085801  0.639736 -1.548306\n",
       "jpn           H -0.775762  0.995711 -1.933205  0.248531 -0.937493\n",
       "ame           I -0.139474 -0.190656  0.448638 -0.992430  0.257982\n",
       "rus           J -1.654571 -0.639723 -0.479420  0.311364 -1.119142"
      ]
     },
     "execution_count": 260,
     "metadata": {},
     "output_type": "execute_result"
    }
   ],
   "source": [
    "dataframe"
   ]
  },
  {
   "cell_type": "code",
   "execution_count": null,
   "metadata": {},
   "outputs": [],
   "source": []
  }
 ],
 "metadata": {
  "kernelspec": {
   "display_name": "Python 3",
   "language": "python",
   "name": "python3"
  },
  "language_info": {
   "codemirror_mode": {
    "name": "ipython",
    "version": 3
   },
   "file_extension": ".py",
   "mimetype": "text/x-python",
   "name": "python",
   "nbconvert_exporter": "python",
   "pygments_lexer": "ipython3",
   "version": "3.7.4"
  }
 },
 "nbformat": 4,
 "nbformat_minor": 4
}
